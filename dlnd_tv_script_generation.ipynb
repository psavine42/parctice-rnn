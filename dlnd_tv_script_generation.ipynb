{
 "cells": [
  {
   "cell_type": "markdown",
   "metadata": {
    "deletable": true,
    "editable": true
   },
   "source": [
    "# TV Script Generation\n",
    "In this project, you'll generate your own [Simpsons](https://en.wikipedia.org/wiki/The_Simpsons) TV scripts using RNNs.  You'll be using part of the [Simpsons dataset](https://www.kaggle.com/wcukierski/the-simpsons-by-the-data) of scripts from 27 seasons.  The Neural Network you'll build will generate a new TV script for a scene at [Moe's Tavern](https://simpsonswiki.com/wiki/Moe's_Tavern).\n",
    "## Get the Data\n",
    "The data is already provided for you.  You'll be using a subset of the original dataset.  It consists of only the scenes in Moe's Tavern.  This doesn't include other versions of the tavern, like \"Moe's Cavern\", \"Flaming Moe's\", \"Uncle Moe's Family Feed-Bag\", etc.."
   ]
  },
  {
   "cell_type": "code",
   "execution_count": 1,
   "metadata": {
    "collapsed": true,
    "deletable": true,
    "editable": true
   },
   "outputs": [],
   "source": [
    "\n",
    "import helper\n",
    "\n",
    "data_dir = './data/simpsons/moes_tavern_lines.txt'\n",
    "text = helper.load_data(data_dir)\n",
    "text = text[81:]"
   ]
  },
  {
   "cell_type": "markdown",
   "metadata": {
    "deletable": true,
    "editable": true
   },
   "source": [
    "## Explore the Data\n",
    "Play around with `view_sentence_range` to view different parts of the data."
   ]
  },
  {
   "cell_type": "code",
   "execution_count": 2,
   "metadata": {
    "collapsed": false,
    "deletable": true,
    "editable": true
   },
   "outputs": [
    {
     "name": "stdout",
     "output_type": "stream",
     "text": [
      "Dataset Stats\n",
      "Roughly the number of unique words: 11492\n",
      "Number of scenes: 262\n",
      "Average number of sentences in each scene: 15.248091603053435\n",
      "Number of lines: 4257\n",
      "Average number of words in each line: 11.50434578341555\n",
      "\n",
      "The sentences 0 to 10:\n",
      "Moe_Szyslak: (INTO PHONE) Moe's Tavern. Where the elite meet to drink.\n",
      "Bart_Simpson: Eh, yeah, hello, is Mike there? Last name, Rotch.\n",
      "Moe_Szyslak: (INTO PHONE) Hold on, I'll check. (TO BARFLIES) Mike Rotch. Mike Rotch. Hey, has anybody seen Mike Rotch, lately?\n",
      "Moe_Szyslak: (INTO PHONE) Listen you little puke. One of these days I'm gonna catch you, and I'm gonna carve my name on your back with an ice pick.\n",
      "Moe_Szyslak: What's the matter Homer? You're not your normal effervescent self.\n",
      "Homer_Simpson: I got my problems, Moe. Give me another one.\n",
      "Moe_Szyslak: Homer, hey, you should not drink to forget your problems.\n",
      "Barney_Gumble: Yeah, you should only drink to enhance your social skills.\n",
      "\n",
      "\n"
     ]
    }
   ],
   "source": [
    "view_sentence_range = (0, 10)\n",
    "\n",
    "import numpy as np\n",
    "\n",
    "print('Dataset Stats')\n",
    "print('Roughly the number of unique words: {}'.format(len({word: None for word in text.split()})))\n",
    "scenes = text.split('\\n\\n')\n",
    "print('Number of scenes: {}'.format(len(scenes)))\n",
    "sentence_count_scene = [scene.count('\\n') for scene in scenes]\n",
    "print('Average number of sentences in each scene: {}'.format(np.average(sentence_count_scene)))\n",
    "\n",
    "sentences = [sentence for scene in scenes for sentence in scene.split('\\n')]\n",
    "print('Number of lines: {}'.format(len(sentences)))\n",
    "word_count_sentence = [len(sentence.split()) for sentence in sentences]\n",
    "print('Average number of words in each line: {}'.format(np.average(word_count_sentence)))\n",
    "\n",
    "print()\n",
    "print('The sentences {} to {}:'.format(*view_sentence_range))\n",
    "print('\\n'.join(text.split('\\n')[view_sentence_range[0]:view_sentence_range[1]]))"
   ]
  },
  {
   "cell_type": "markdown",
   "metadata": {
    "deletable": true,
    "editable": true
   },
   "source": [
    "##  Preprocessing\n",
    "- Lookup Table\n",
    "- Tokenize Punctuation\n",
    "\n",
    "- Dictionary to go from the words to an id, we'll call `vocab_to_int`\n",
    "- Dictionary to go from the id to word, we'll call `int_to_vocab`\n"
   ]
  },
  {
   "cell_type": "code",
   "execution_count": 3,
   "metadata": {
    "collapsed": false,
    "deletable": true,
    "editable": true
   },
   "outputs": [
    {
     "name": "stdout",
     "output_type": "stream",
     "text": [
      "Tests Passed\n"
     ]
    }
   ],
   "source": [
    "import numpy as np\n",
    "import problem_unittests as tests\n",
    "from collections import Counter\n",
    "\n",
    "\n",
    "def create_lookup_tables(text):\n",
    "    \"\"\"\n",
    "    Create lookup tables for vocabulary\n",
    "    :param text: The text of tv scripts split into words\n",
    "    :return: A tuple of dicts (vocab_to_int, int_to_vocab)\n",
    "    \"\"\"\n",
    "    word_counts = Counter(text).keys()\n",
    "    int_to_vocab = {ii: word for ii, word in enumerate(word_counts)}\n",
    "    vocab_to_int = {word: ii for ii, word in enumerate(word_counts)}\n",
    "    return vocab_to_int, int_to_vocab \n",
    "\n",
    "tests.test_create_lookup_tables(create_lookup_tables)"
   ]
  },
  {
   "cell_type": "markdown",
   "metadata": {
    "deletable": true,
    "editable": true
   },
   "source": [
    "- Period ( . )\n",
    "- Comma ( , )\n",
    "- Quotation Mark ( \" )\n",
    "- Semicolon ( ; )\n",
    "- Exclamation mark ( ! )\n",
    "- Question mark ( ? )\n",
    "- Left Parentheses ( ( )\n",
    "- Right Parentheses ( ) )\n",
    "- Dash ( -- )\n",
    "- Return ( \\n )"
   ]
  },
  {
   "cell_type": "code",
   "execution_count": 4,
   "metadata": {
    "collapsed": false,
    "deletable": true,
    "editable": true
   },
   "outputs": [
    {
     "name": "stdout",
     "output_type": "stream",
     "text": [
      "Tests Passed\n"
     ]
    }
   ],
   "source": [
    "def token_lookup():\n",
    "    return {'.': '||PERIOD||',         ',': '||COMMA||',            '\"': '||QUOTATION_MARK||',\n",
    "            ';': '||SEMICOLON||',      '!': '||EXCLAMATION_MARK||', '?': '||QUESTION_MARK||', \n",
    "            '(': '||LEFT_PAREN||',     ')': '||RIGHT_PAREN||',     '--': '||DASH||',\n",
    "            '?': '||QUESTION_MARK||', '\\n': '||RETURN||'}\n",
    " \n",
    "\n",
    "tests.test_tokenize(token_lookup)"
   ]
  },
  {
   "cell_type": "markdown",
   "metadata": {
    "deletable": true,
    "editable": true
   },
   "source": [
    "helper.preprocess_and_save_data(data_dir, token_lookup, create_lookup_tables)"
   ]
  },
  {
   "cell_type": "code",
   "execution_count": 6,
   "metadata": {
    "collapsed": true,
    "deletable": true,
    "editable": true
   },
   "outputs": [],
   "source": [
    "\n",
    "import helper\n",
    "import numpy as np\n",
    "import problem_unittests as tests\n",
    "\n",
    "int_text, vocab_to_int, int_to_vocab, token_dict = helper.load_preprocess()"
   ]
  },
  {
   "cell_type": "markdown",
   "metadata": {
    "deletable": true,
    "editable": true
   },
   "source": [
    "## Neural Network\n",
    "- get_inputs\n",
    "- get_init_cell\n",
    "- get_embed\n",
    "- build_rnn\n",
    "- build_nn\n",
    "- get_batches"
   ]
  },
  {
   "cell_type": "code",
   "execution_count": 7,
   "metadata": {
    "collapsed": false,
    "deletable": true,
    "editable": true
   },
   "outputs": [
    {
     "name": "stdout",
     "output_type": "stream",
     "text": [
      "TensorFlow Version: 1.0.0\n",
      "Default GPU Device: /gpu:0\n"
     ]
    }
   ],
   "source": [
    "\n",
    "from distutils.version import LooseVersion\n",
    "import warnings\n",
    "import tensorflow as tf\n",
    "\n",
    "assert LooseVersion(tf.__version__) >= LooseVersion('1.0'), 'Please use TensorFlow version 1.0 or newer'\n",
    "print('TensorFlow Version: {}'.format(tf.__version__))\n",
    "\n",
    "if not tf.test.gpu_device_name():\n",
    "    warnings.warn('No GPU found. Please use a GPU to train your neural network.')\n",
    "else:\n",
    "    print('Default GPU Device: {}'.format(tf.test.gpu_device_name()))"
   ]
  },
  {
   "cell_type": "markdown",
   "metadata": {
    "deletable": true,
    "editable": true
   },
   "source": [
    "### Input\n",
    "- Targets placeholder\n",
    "- Learning Rate placeholder\n",
    "\n",
    "Return the placeholders tuple `(Input, Targets, LearningRate)`"
   ]
  },
  {
   "cell_type": "code",
   "execution_count": 8,
   "metadata": {
    "collapsed": false,
    "deletable": true,
    "editable": true
   },
   "outputs": [
    {
     "name": "stdout",
     "output_type": "stream",
     "text": [
      "Tests Passed\n"
     ]
    }
   ],
   "source": [
    "def get_inputs():\n",
    "    \"\"\"\n",
    "    Create TF Placeholders for input, targets, and learning rate.\n",
    "    :return: Tuple (input, targets, learning rate)\n",
    "    \"\"\"\n",
    "    inputs  = tf.placeholder(tf.int32, [None,None], name='input')\n",
    "    targets = tf.placeholder(tf.int32, [None, None], name='targets')\n",
    "    learning_rate = tf.placeholder(tf.float32, None , name='lr')\n",
    "\n",
    "    \n",
    "    return inputs, targets, learning_rate\n",
    "\n",
    "tests.test_get_inputs(get_inputs)"
   ]
  },
  {
   "cell_type": "markdown",
   "metadata": {
    "deletable": true,
    "editable": true
   },
   "source": [
    "### Build RNN Cell and Initialize\n"
   ]
  },
  {
   "cell_type": "code",
   "execution_count": 106,
   "metadata": {
    "collapsed": false,
    "deletable": true,
    "editable": true
   },
   "outputs": [
    {
     "name": "stdout",
     "output_type": "stream",
     "text": [
      "Tests Passed\n"
     ]
    }
   ],
   "source": [
    "def get_init_cell(batch_size, rnn_size):\n",
    "    lstm = tf.contrib.rnn.BasicLSTMCell(rnn_size)\n",
    "    \n",
    "    drop = tf.contrib.rnn.DropoutWrapper(lstm, output_keep_prob=0.85)\n",
    "    cell = tf.contrib.rnn.MultiRNNCell([drop] * 2)\n",
    "    initial_state = cell.zero_state(batch_size, tf.float32)\n",
    "    \n",
    "    initial_state = tf.identity(initial_state, name='initial_state') \n",
    "    return cell, initial_state\n",
    "\n",
    "tests.test_get_init_cell(get_init_cell)"
   ]
  },
  {
   "cell_type": "code",
   "execution_count": 107,
   "metadata": {
    "collapsed": false,
    "deletable": true,
    "editable": true
   },
   "outputs": [
    {
     "name": "stdout",
     "output_type": "stream",
     "text": [
      "Tests Passed\n"
     ]
    }
   ],
   "source": [
    "def get_embed(input_data, vocab_size, embed_dim):\n",
    "    \"\"\"\n",
    "    Create embedding for <input_data>.\n",
    "    :param input_data: TF placeholder for text input.\n",
    "    :param vocab_size: Number of words in vocabulary.\n",
    "    :param embed_dim: Number of embedding dimensions\n",
    "    :return: Embedded input.\n",
    "    \"\"\"\n",
    "    embedding = tf.Variable(tf.random_uniform((vocab_size, embed_dim)) ) \n",
    "    embed = tf.nn.embedding_lookup(embedding, input_data)\n",
    "    return embed\n",
    "\n",
    "\n",
    "tests.test_get_embed(get_embed)"
   ]
  },
  {
   "cell_type": "code",
   "execution_count": 108,
   "metadata": {
    "collapsed": false,
    "deletable": true,
    "editable": true
   },
   "outputs": [
    {
     "name": "stdout",
     "output_type": "stream",
     "text": [
      "Tests Passed\n"
     ]
    }
   ],
   "source": [
    "def build_rnn(cell, inputs):\n",
    "    \"\"\"\n",
    "    Create a RNN using a RNN Cell\n",
    "    :param cell: RNN Cell\n",
    "    :param inputs: Input text data\n",
    "    :return: Tuple (Outputs, Final State)\n",
    "    \"\"\"\n",
    "    outputs, state = tf.nn.dynamic_rnn(cell, inputs, dtype=tf.float32)\n",
    "    final_state = tf.identity(state, name='final_state')\n",
    "    return outputs, final_state\n",
    "\n",
    "\n",
    "tests.test_build_rnn(build_rnn)"
   ]
  },
  {
   "cell_type": "code",
   "execution_count": 109,
   "metadata": {
    "collapsed": false,
    "deletable": true,
    "editable": true
   },
   "outputs": [
    {
     "name": "stdout",
     "output_type": "stream",
     "text": [
      "256 27 300 (128, 5)\n",
      "Tests Passed\n"
     ]
    }
   ],
   "source": [
    "def build_nn(cell, rnn_size, input_data, vocab_size, embed_dim):\n",
    "    \"\"\"\n",
    "    Build part of the neural network\n",
    "    :param cell: RNN cell\n",
    "    :param rnn_size: Size of rnns\n",
    "    :param input_data: Input data\n",
    "    :param vocab_size: Vocabulary size\n",
    "    :param embed_dim: Number of embedding dimensions\n",
    "    :return: Tuple (Logits, FinalState)\n",
    "    \"\"\"\n",
    "    print(rnn_size,vocab_size, embed_dim, input_data.shape)\n",
    "    \n",
    "    embed = get_embed(input_data, vocab_size, embed_dim )\n",
    "    outputs, final_state = build_rnn(cell, embed)\n",
    "    logits = tf.contrib.layers.fully_connected(outputs, \n",
    "                                               vocab_size,\n",
    "                                               weights_initializer = tf.truncated_normal_initializer(stddev=0.1),\n",
    "                                               biases_initializer=tf.zeros_initializer(),\n",
    "                                               activation_fn=None)\n",
    "    return logits, final_state\n",
    "\n",
    "\n",
    "tests.test_build_nn(build_nn)"
   ]
  },
  {
   "cell_type": "markdown",
   "metadata": {
    "deletable": true,
    "editable": true
   },
   "source": [
    "### Batches\n",
    " batch contains two elements:\n",
    "- The first element is a single batch of **input** with the shape `[batch size, sequence length]`\n",
    "- The second element is a single batch of **targets** with the shape `[batch size, sequence length]`\n"
   ]
  },
  {
   "cell_type": "code",
   "execution_count": 94,
   "metadata": {
    "collapsed": false,
    "deletable": true,
    "editable": true
   },
   "outputs": [
    {
     "name": "stdout",
     "output_type": "stream",
     "text": [
      "Tests Passed\n"
     ]
    }
   ],
   "source": [
    "def get_batches(int_text, batch_size, seq_length):\n",
    "    \"\"\"\n",
    "    Return batches of input and target\n",
    "    :param int_text: Text with the words replaced by their ids\n",
    "    :param batch_size: The size of batch\n",
    "    :param seq_length: The length of sequence\n",
    "    :return: Batches as a Numpy array\n",
    "    \"\"\"\n",
    "\n",
    "    batch_count = len(int_text) // (batch_size * seq_length)\n",
    "  \n",
    "    xdata = np.array(int_text[: batch_count * batch_size * seq_length])\n",
    "    ydata = np.array(int_text[1: batch_count * batch_size * seq_length + 1])\n",
    "\n",
    "    x_batches = np.split(xdata.reshape(batch_size, -1), batch_count, 1)\n",
    "    y_batches = np.split(ydata.reshape(batch_size, -1), batch_count, 1)\n",
    "    \n",
    "    return np.array(list(zip(x_batches, y_batches)))\n",
    "\n",
    "\n",
    "tests.test_get_batches(get_batches)"
   ]
  },
  {
   "cell_type": "code",
   "execution_count": 111,
   "metadata": {
    "collapsed": true,
    "deletable": true,
    "editable": true
   },
   "outputs": [],
   "source": [
    "# Number of Epochs\n",
    "num_epochs = 100 \n",
    "# Batch Size\n",
    "batch_size = 512 #floydhub gpu\n",
    "# RNN Size\n",
    "rnn_size = 512\n",
    "# Embedding Dimension Size\n",
    "embed_dim = 100 #initial suggested in lesson 3.3\n",
    "# Sequence Length\n",
    "seq_length = 12 #~ avg number of lines/scene\n",
    "# Learning Rate\n",
    "learning_rate = 0.005  #tuned \n",
    "# Show stats for every n number of batches\n",
    "show_every_n_batches = 10\n",
    "#droppout on LSTM (in code) = 0.75\n",
    "\n",
    "save_dir = './save'"
   ]
  },
  {
   "cell_type": "code",
   "execution_count": 112,
   "metadata": {
    "collapsed": false,
    "deletable": true,
    "editable": true
   },
   "outputs": [
    {
     "name": "stdout",
     "output_type": "stream",
     "text": [
      "512 6779 100 (?, ?)\n"
     ]
    }
   ],
   "source": [
    "from tensorflow.contrib import seq2seq\n",
    "\n",
    "train_graph = tf.Graph()\n",
    "with train_graph.as_default():\n",
    "    vocab_size = len(int_to_vocab)\n",
    "    input_text, targets, lr = get_inputs()\n",
    "    input_data_shape = tf.shape(input_text)\n",
    "    cell, initial_state = get_init_cell(input_data_shape[0], rnn_size)\n",
    "    logits, final_state = build_nn(cell, rnn_size, input_text, vocab_size, embed_dim)\n",
    "\n",
    "    # Probabilities for generating words\n",
    "    probs = tf.nn.softmax(logits, name='probs')\n",
    "\n",
    "    # Loss function\n",
    "    cost = seq2seq.sequence_loss(\n",
    "        logits,\n",
    "        targets,\n",
    "        tf.ones([input_data_shape[0], input_data_shape[1]]))\n",
    "\n",
    "    # Optimizer\n",
    "    optimizer = tf.train.AdamOptimizer(lr)\n",
    "\n",
    "    # Gradient Clipping\n",
    "    gradients = optimizer.compute_gradients(cost)\n",
    "    capped_gradients = [(tf.clip_by_value(grad, -1., 1.), var) for grad, var in gradients]\n",
    "    train_op = optimizer.apply_gradients(capped_gradients)"
   ]
  },
  {
   "cell_type": "markdown",
   "metadata": {
    "deletable": true,
    "editable": true
   },
   "source": [
    "## Train\n",
    "Train the neural network on the preprocessed data.  If you have a hard time getting a good loss, check the [forms](https://discussions.udacity.com/) to see if anyone is having the same problem."
   ]
  },
  {
   "cell_type": "code",
   "execution_count": 113,
   "metadata": {
    "collapsed": false,
    "deletable": true,
    "editable": true
   },
   "outputs": [
    {
     "name": "stdout",
     "output_type": "stream",
     "text": [
      "Epoch   0 Batch    0/11   train_loss = 8.827\n",
      "Epoch   0 Batch   10/11   train_loss = 6.647\n",
      "Epoch   1 Batch    9/11   train_loss = 6.026\n",
      "Epoch   2 Batch    8/11   train_loss = 6.022\n",
      "Epoch   3 Batch    7/11   train_loss = 5.987\n",
      "Epoch   4 Batch    6/11   train_loss = 5.818\n",
      "Epoch   5 Batch    5/11   train_loss = 5.610\n",
      "Epoch   6 Batch    4/11   train_loss = 5.339\n",
      "Epoch   7 Batch    3/11   train_loss = 5.237\n",
      "Epoch   8 Batch    2/11   train_loss = 4.962\n",
      "Epoch   9 Batch    1/11   train_loss = 4.932\n",
      "Epoch  10 Batch    0/11   train_loss = 4.796\n",
      "Epoch  10 Batch   10/11   train_loss = 4.716\n",
      "Epoch  11 Batch    9/11   train_loss = 4.577\n",
      "Epoch  12 Batch    8/11   train_loss = 4.507\n",
      "Epoch  13 Batch    7/11   train_loss = 4.452\n",
      "Epoch  14 Batch    6/11   train_loss = 4.302\n",
      "Epoch  15 Batch    5/11   train_loss = 4.212\n",
      "Epoch  16 Batch    4/11   train_loss = 4.091\n",
      "Epoch  17 Batch    3/11   train_loss = 4.056\n",
      "Epoch  18 Batch    2/11   train_loss = 3.918\n",
      "Epoch  19 Batch    1/11   train_loss = 3.878\n",
      "Epoch  20 Batch    0/11   train_loss = 3.771\n",
      "Epoch  20 Batch   10/11   train_loss = 3.708\n",
      "Epoch  21 Batch    9/11   train_loss = 3.624\n",
      "Epoch  22 Batch    8/11   train_loss = 3.537\n",
      "Epoch  23 Batch    7/11   train_loss = 3.541\n",
      "Epoch  24 Batch    6/11   train_loss = 3.379\n",
      "Epoch  25 Batch    5/11   train_loss = 3.362\n",
      "Epoch  26 Batch    4/11   train_loss = 3.218\n",
      "Epoch  27 Batch    3/11   train_loss = 3.174\n",
      "Epoch  28 Batch    2/11   train_loss = 3.098\n",
      "Epoch  29 Batch    1/11   train_loss = 3.031\n",
      "Epoch  30 Batch    0/11   train_loss = 3.007\n",
      "Epoch  30 Batch   10/11   train_loss = 2.905\n",
      "Epoch  31 Batch    9/11   train_loss = 2.833\n",
      "Epoch  32 Batch    8/11   train_loss = 2.709\n",
      "Epoch  33 Batch    7/11   train_loss = 2.760\n",
      "Epoch  34 Batch    6/11   train_loss = 2.610\n",
      "Epoch  35 Batch    5/11   train_loss = 2.575\n",
      "Epoch  36 Batch    4/11   train_loss = 2.522\n",
      "Epoch  37 Batch    3/11   train_loss = 2.490\n",
      "Epoch  38 Batch    2/11   train_loss = 2.407\n",
      "Epoch  39 Batch    1/11   train_loss = 2.393\n",
      "Epoch  40 Batch    0/11   train_loss = 2.346\n",
      "Epoch  40 Batch   10/11   train_loss = 2.285\n",
      "Epoch  41 Batch    9/11   train_loss = 2.232\n",
      "Epoch  42 Batch    8/11   train_loss = 2.195\n",
      "Epoch  43 Batch    7/11   train_loss = 2.208\n",
      "Epoch  44 Batch    6/11   train_loss = 2.226\n",
      "Epoch  45 Batch    5/11   train_loss = 2.203\n",
      "Epoch  46 Batch    4/11   train_loss = 2.151\n",
      "Epoch  47 Batch    3/11   train_loss = 2.176\n",
      "Epoch  48 Batch    2/11   train_loss = 2.173\n",
      "Epoch  49 Batch    1/11   train_loss = 2.004\n",
      "Epoch  50 Batch    0/11   train_loss = 2.020\n",
      "Epoch  50 Batch   10/11   train_loss = 1.879\n",
      "Epoch  51 Batch    9/11   train_loss = 1.811\n",
      "Epoch  52 Batch    8/11   train_loss = 1.820\n",
      "Epoch  53 Batch    7/11   train_loss = 1.869\n",
      "Epoch  54 Batch    6/11   train_loss = 1.748\n",
      "Epoch  55 Batch    5/11   train_loss = 2.249\n",
      "Epoch  56 Batch    4/11   train_loss = 1.825\n",
      "Epoch  57 Batch    3/11   train_loss = 1.885\n",
      "Epoch  58 Batch    2/11   train_loss = 1.713\n",
      "Epoch  59 Batch    1/11   train_loss = 1.651\n",
      "Epoch  60 Batch    0/11   train_loss = 1.609\n",
      "Epoch  60 Batch   10/11   train_loss = 1.729\n",
      "Epoch  61 Batch    9/11   train_loss = 1.516\n",
      "Epoch  62 Batch    8/11   train_loss = 1.728\n",
      "Epoch  63 Batch    7/11   train_loss = 1.492\n",
      "Epoch  64 Batch    6/11   train_loss = 1.530\n",
      "Epoch  65 Batch    5/11   train_loss = 1.492\n",
      "Epoch  66 Batch    4/11   train_loss = 1.337\n",
      "Epoch  67 Batch    3/11   train_loss = 1.473\n",
      "Epoch  68 Batch    2/11   train_loss = 1.313\n",
      "Epoch  69 Batch    1/11   train_loss = 1.366\n",
      "Epoch  70 Batch    0/11   train_loss = 1.313\n",
      "Epoch  70 Batch   10/11   train_loss = 1.265\n",
      "Epoch  71 Batch    9/11   train_loss = 1.199\n",
      "Epoch  72 Batch    8/11   train_loss = 1.144\n",
      "Epoch  73 Batch    7/11   train_loss = 1.099\n",
      "Epoch  74 Batch    6/11   train_loss = 1.086\n",
      "Epoch  75 Batch    5/11   train_loss = 1.054\n",
      "Epoch  76 Batch    4/11   train_loss = 1.036\n",
      "Epoch  77 Batch    3/11   train_loss = 0.992\n",
      "Epoch  78 Batch    2/11   train_loss = 0.974\n",
      "Epoch  79 Batch    1/11   train_loss = 0.946\n",
      "Epoch  80 Batch    0/11   train_loss = 0.927\n",
      "Epoch  80 Batch   10/11   train_loss = 0.888\n",
      "Epoch  81 Batch    9/11   train_loss = 0.896\n",
      "Epoch  82 Batch    8/11   train_loss = 0.839\n",
      "Epoch  83 Batch    7/11   train_loss = 0.854\n",
      "Epoch  84 Batch    6/11   train_loss = 0.855\n",
      "Epoch  85 Batch    5/11   train_loss = 0.846\n",
      "Epoch  86 Batch    4/11   train_loss = 0.834\n",
      "Epoch  87 Batch    3/11   train_loss = 0.838\n",
      "Epoch  88 Batch    2/11   train_loss = 0.817\n",
      "Epoch  89 Batch    1/11   train_loss = 0.796\n",
      "Epoch  90 Batch    0/11   train_loss = 0.764\n",
      "Epoch  90 Batch   10/11   train_loss = 0.765\n",
      "Epoch  91 Batch    9/11   train_loss = 0.771\n",
      "Epoch  92 Batch    8/11   train_loss = 0.712\n",
      "Epoch  93 Batch    7/11   train_loss = 0.743\n",
      "Epoch  94 Batch    6/11   train_loss = 0.753\n",
      "Epoch  95 Batch    5/11   train_loss = 0.728\n",
      "Epoch  96 Batch    4/11   train_loss = 0.746\n",
      "Epoch  97 Batch    3/11   train_loss = 0.716\n",
      "Epoch  98 Batch    2/11   train_loss = 0.707\n",
      "Epoch  99 Batch    1/11   train_loss = 0.685\n",
      "Model Trained and Saved\n"
     ]
    }
   ],
   "source": [
    "batches = get_batches(int_text, batch_size, seq_length)\n",
    "\n",
    "with tf.Session(graph=train_graph) as sess:\n",
    "    sess.run(tf.global_variables_initializer())\n",
    "\n",
    "    for epoch_i in range(num_epochs):\n",
    "        state = sess.run(initial_state, {input_text: batches[0][0]})\n",
    "\n",
    "        for batch_i, (x, y) in enumerate(batches):\n",
    "            feed = {\n",
    "                input_text: x,\n",
    "                targets: y,\n",
    "                initial_state: state,\n",
    "                lr: learning_rate}\n",
    "            train_loss, state, _ = sess.run([cost, final_state, train_op], feed)\n",
    "\n",
    "            if (epoch_i * len(batches) + batch_i) % show_every_n_batches == 0:\n",
    "                print('Epoch {:>3} Batch {:>4}/{}   train_loss = {:.3f}'.format(\n",
    "                    epoch_i,\n",
    "                    batch_i,\n",
    "                    len(batches),\n",
    "                    train_loss))\n",
    "\n",
    "    # Save Model\n",
    "    saver = tf.train.Saver()\n",
    "    saver.save(sess, save_dir)\n",
    "    print('Model Trained and Saved')"
   ]
  },
  {
   "cell_type": "code",
   "execution_count": 114,
   "metadata": {
    "collapsed": true,
    "deletable": true,
    "editable": true
   },
   "outputs": [],
   "source": [
    "helper.save_params((seq_length, save_dir))"
   ]
  },
  {
   "cell_type": "code",
   "execution_count": 115,
   "metadata": {
    "collapsed": true,
    "deletable": true,
    "editable": true
   },
   "outputs": [],
   "source": [
    "\n",
    "import tensorflow as tf\n",
    "import numpy as np\n",
    "import helper\n",
    "import problem_unittests as tests\n",
    "\n",
    "_, vocab_to_int, int_to_vocab, token_dict = helper.load_preprocess()\n",
    "seq_length, load_dir = helper.load_params()"
   ]
  },
  {
   "cell_type": "code",
   "execution_count": 103,
   "metadata": {
    "collapsed": false,
    "deletable": true,
    "editable": true
   },
   "outputs": [
    {
     "name": "stdout",
     "output_type": "stream",
     "text": [
      "Tests Passed\n"
     ]
    }
   ],
   "source": [
    "def get_tensors(loaded_graph):\n",
    "    \"\"\"\n",
    "    Get input, initial state, final state, and probabilities tensor from <loaded_graph>\n",
    "    :param loaded_graph: TensorFlow graph loaded from file\n",
    "    :return: Tuple (InputTensor, InitialStateTensor, FinalStateTensor, ProbsTensor)\n",
    "    \"\"\"\n",
    "    i_t = loaded_graph.get_tensor_by_name(\"input:0\")\n",
    "    i_s = loaded_graph.get_tensor_by_name(\"initial_state:0\")\n",
    "    f_s = loaded_graph.get_tensor_by_name(\"final_state:0\")\n",
    "    p = loaded_graph.get_tensor_by_name(\"probs:0\")\n",
    " \n",
    "    return i_t, i_s, f_s, p\n",
    "\n",
    "\n",
    "tests.test_get_tensors(get_tensors)"
   ]
  },
  {
   "cell_type": "code",
   "execution_count": 104,
   "metadata": {
    "collapsed": false,
    "deletable": true,
    "editable": true
   },
   "outputs": [
    {
     "name": "stdout",
     "output_type": "stream",
     "text": [
      "Tests Passed\n"
     ]
    }
   ],
   "source": [
    "def pick_word(probabilities, int_to_vocab):\n",
    "    return np.random.choice(list(int_to_vocab.values()), 10, p=probabilities)[0]\n",
    "\n",
    "\n",
    "tests.test_pick_word(pick_word)"
   ]
  },
  {
   "cell_type": "code",
   "execution_count": 117,
   "metadata": {
    "collapsed": false,
    "deletable": true,
    "editable": true
   },
   "outputs": [
    {
     "name": "stdout",
     "output_type": "stream",
     "text": [
      "moe_szyslak: livin' business pour inspector nursemaid struggling xanders nasty confession bloodball feast shades nursemaid nursemaid nursemaid trip freed says fudd squeezin' tow-joes anguished strokkur inspector nursemaid struggling bloodball badge remain shades strokkur africa huddle neil_gaiman: kahlua log saw department's senators: confession nursemaid table's bloodball couch shades work fudd homer_doubles: log sharity inspector buddy log gentleman's refreshingness errrrrrr fudd harder part miles strokkur ahh errrrrrr weren't settles miserable confession nursemaid table's factor log buddy log gentleman's necessary shyly worst fudd shhh morning-after thousand-year confession focused nemo solid 'n' errrrrrr turkey errrrrrr man_at_bar: dank annie fudd breaking log weren't smiled chug fistiana confession disco_stu: shakes weren't j confession strokkur eva barflies: jumps confession bloodball talked chosen shades nursemaid managed character log neil_gaiman: gloop weren't fl errrrrrr polygon errrrrrr barflies: vehicle quotes confession bloodball lime strips shades gentleman's goes log mine lush confession nursemaid struggling bloodball gunter shades season log gentleman's fresco tolerable occupied england's anguished bees girl don confession gentleman's grabbing feeling errrrrrr cutie confession nursemaid table's bloodball summer's cupid shades x-men modern carpet confession nursemaid struggling bloodball front shades gentleman's habitrail eh hangin' annie sobo nursemaid table's bloodball hemorrhage-amundo weren't contemplated dyin' annie weren't two-drink tear log othello confession painless errrrrrr ourselves\n"
     ]
    }
   ],
   "source": [
    "gen_length = 200\n",
    "# homer_simpson, moe_szyslak,  Barney_Gumble\n",
    "prime_word = 'moe_szyslak'\n",
    "\n",
    "\n",
    "loaded_graph = tf.Graph()\n",
    "with tf.Session(graph=loaded_graph) as sess:\n",
    "    # Load saved model\n",
    "    loader = tf.train.import_meta_graph(load_dir + '.meta')\n",
    "    loader.restore(sess, load_dir)\n",
    "\n",
    "    # Get Tensors from loaded model\n",
    "    input_text, initial_state, final_state, probs = get_tensors(loaded_graph)\n",
    "\n",
    "    # Sentences generation setup\n",
    "    gen_sentences = [prime_word + ':']\n",
    "    prev_state = sess.run(initial_state, {input_text: np.array([[1]])})\n",
    "\n",
    "    # Generate sentences\n",
    "    for n in range(gen_length):\n",
    "        # Dynamic Input\n",
    "        dyn_input = [[vocab_to_int[word] for word in gen_sentences[-seq_length:]]]\n",
    "        dyn_seq_length = len(dyn_input[0])\n",
    "\n",
    "        # Get Prediction\n",
    "        probabilities, prev_state = sess.run(\n",
    "            [probs, final_state],\n",
    "            {input_text: dyn_input, initial_state: prev_state})\n",
    "        \n",
    "        #print(np.sort(probabilities))\n",
    "        pred_word = pick_word(probabilities[dyn_seq_length-1], int_to_vocab)\n",
    "\n",
    "        gen_sentences.append(pred_word)\n",
    "    \n",
    "    # Remove tokens\n",
    "    tv_script = ' '.join(gen_sentences)\n",
    "    for key, token in token_dict.items():\n",
    "        ending = ' ' if key in ['\\n', '(', '\"'] else ''\n",
    "        tv_script = tv_script.replace(' ' + token.lower(), key)\n",
    "    tv_script = tv_script.replace('\\n ', '\\n')\n",
    "    tv_script = tv_script.replace('( ', '(')\n",
    "        \n",
    "    print(tv_script)"
   ]
  },
  {
   "cell_type": "markdown",
   "metadata": {
    "deletable": true,
    "editable": true
   },
   "source": []
  }
 ],
 "metadata": {
  "kernelspec": {
   "display_name": "Python 3",
   "language": "python",
   "name": "python3"
  },
  "language_info": {
   "codemirror_mode": {
    "name": "ipython",
    "version": 3
   },
   "file_extension": ".py",
   "mimetype": "text/x-python",
   "name": "python",
   "nbconvert_exporter": "python",
   "pygments_lexer": "ipython3",
   "version": "3.6.0"
  }
 },
 "nbformat": 4,
 "nbformat_minor": 1
}
